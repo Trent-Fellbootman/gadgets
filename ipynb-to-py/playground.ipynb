{
 "cells": [
  {
   "cell_type": "code",
   "execution_count": 2,
   "metadata": {},
   "outputs": [],
   "source": [
    "import json\n",
    "import re\n",
    "from typing import *"
   ]
  },
  {
   "cell_type": "code",
   "execution_count": 3,
   "metadata": {},
   "outputs": [],
   "source": [
    "f = open('sample_json/main.ipynb')\n",
    "data = json.load(f)\n",
    "f.close()"
   ]
  },
  {
   "cell_type": "code",
   "execution_count": 4,
   "metadata": {},
   "outputs": [
    {
     "data": {
      "text/plain": [
       "38"
      ]
     },
     "execution_count": 4,
     "metadata": {},
     "output_type": "execute_result"
    }
   ],
   "source": [
    "len(data['cells'])"
   ]
  },
  {
   "cell_type": "code",
   "execution_count": 5,
   "metadata": {},
   "outputs": [
    {
     "name": "stdout",
     "output_type": "stream",
     "text": [
      "code\n"
     ]
    }
   ],
   "source": [
    "print(data['cells'][1]['cell_type'])"
   ]
  },
  {
   "cell_type": "code",
   "execution_count": 49,
   "metadata": {},
   "outputs": [],
   "source": [
    "def ipynb_to_py(data: str):\n",
    "    \"\"\"\n",
    "    convert .ipynb to .py\n",
    "    \"\"\"\n",
    "    \n",
    "    converted = ''\n",
    "    \n",
    "    data = json.loads(data)\n",
    "    assert 'cells' in data.keys()\n",
    "    \n",
    "    for cell in data['cells']:\n",
    "        assert {'cell_type' and 'source'}.issubset(cell.keys())\n",
    "        \n",
    "        cell_type = cell['cell_type']\n",
    "        if cell_type == 'markdown':\n",
    "            converted += '\\n\\n\"\"\"\\n\\n\\n'\n",
    "            for line in ['\\t' + line for line in cell['source']]:\n",
    "                converted += line\n",
    "            converted += '\\n\\n\\n\"\"\"\\n\\n'\n",
    "        elif cell_type == 'code':\n",
    "            converted += '\\n'\n",
    "            for line in cell['source']:\n",
    "                converted += line\n",
    "            converted += '\\n'\n",
    "        else:\n",
    "            raise ValueError('Unknown cell_type value: ' + cell_type)\n",
    "    \n",
    "    \n",
    "    \n",
    "    return converted.strip('\\n') + '\\n'"
   ]
  },
  {
   "cell_type": "code",
   "execution_count": 50,
   "metadata": {},
   "outputs": [],
   "source": [
    "converted = ipynb_to_py(open('sample_json/main.ipynb').read())"
   ]
  },
  {
   "cell_type": "code",
   "execution_count": 51,
   "metadata": {},
   "outputs": [
    {
     "data": {
      "text/plain": [
       "['/home/trent/anaconda3/envs/python3.9/lib/python3.9/site-packages/ipykernel_launcher.py',\n",
       " '--ip=127.0.0.1',\n",
       " '--stdin=9003',\n",
       " '--control=9001',\n",
       " '--hb=9000',\n",
       " '--Session.signature_scheme=\"hmac-sha256\"',\n",
       " '--Session.key=b\"26c594b4-c08e-48d1-b3a1-7ce3d26dcdc4\"',\n",
       " '--shell=9002',\n",
       " '--transport=\"tcp\"',\n",
       " '--iopub=9004',\n",
       " '--f=/home/trent/.local/share/jupyter/runtime/kernel-v2-7158ea2kd4p1i97M.json']"
      ]
     },
     "execution_count": 51,
     "metadata": {},
     "output_type": "execute_result"
    }
   ],
   "source": [
    "import sys\n",
    "\n",
    "sys.argv"
   ]
  },
  {
   "cell_type": "code",
   "execution_count": 52,
   "metadata": {},
   "outputs": [
    {
     "ename": "FileExistsError",
     "evalue": "[Errno 17] File exists: 'test.py'",
     "output_type": "error",
     "traceback": [
      "\u001b[0;31m---------------------------------------------------------------------------\u001b[0m",
      "\u001b[0;31mFileExistsError\u001b[0m                           Traceback (most recent call last)",
      "\u001b[1;32m/home/trent/dev/gadgets/ipynb-to-py/playground.ipynb Cell 8\u001b[0m in \u001b[0;36m<cell line: 1>\u001b[0;34m()\u001b[0m\n\u001b[0;32m----> <a href='vscode-notebook-cell:/home/trent/dev/gadgets/ipynb-to-py/playground.ipynb#X14sZmlsZQ%3D%3D?line=0'>1</a>\u001b[0m \u001b[39mwith\u001b[39;00m \u001b[39mopen\u001b[39;49m(\u001b[39m'\u001b[39;49m\u001b[39mtest.py\u001b[39;49m\u001b[39m'\u001b[39;49m, \u001b[39m'\u001b[39;49m\u001b[39mx\u001b[39;49m\u001b[39m'\u001b[39;49m) \u001b[39mas\u001b[39;00m f:\n\u001b[1;32m      <a href='vscode-notebook-cell:/home/trent/dev/gadgets/ipynb-to-py/playground.ipynb#X14sZmlsZQ%3D%3D?line=1'>2</a>\u001b[0m     f\u001b[39m.\u001b[39mwrite(converted)\n",
      "\u001b[0;31mFileExistsError\u001b[0m: [Errno 17] File exists: 'test.py'"
     ]
    }
   ],
   "source": [
    "with open('test.py', 'x') as f:\n",
    "    f.write(converted)"
   ]
  },
  {
   "cell_type": "code",
   "execution_count": 57,
   "metadata": {},
   "outputs": [
    {
     "data": {
      "text/plain": [
       "'a,b,c'"
      ]
     },
     "execution_count": 57,
     "metadata": {},
     "output_type": "execute_result"
    }
   ],
   "source": [
    "','.join(['a', 'b', 'c'])"
   ]
  },
  {
   "cell_type": "code",
   "execution_count": null,
   "metadata": {},
   "outputs": [],
   "source": []
  }
 ],
 "metadata": {
  "kernelspec": {
   "display_name": "Python 3.9.7 ('python3.9')",
   "language": "python",
   "name": "python3"
  },
  "language_info": {
   "codemirror_mode": {
    "name": "ipython",
    "version": 3
   },
   "file_extension": ".py",
   "mimetype": "text/x-python",
   "name": "python",
   "nbconvert_exporter": "python",
   "pygments_lexer": "ipython3",
   "version": "3.9.7"
  },
  "orig_nbformat": 4,
  "vscode": {
   "interpreter": {
    "hash": "dcb3c58c1bf3eb455e4797182986d6285285dde6ec5579c7007dd71a62cc49f2"
   }
  }
 },
 "nbformat": 4,
 "nbformat_minor": 2
}
